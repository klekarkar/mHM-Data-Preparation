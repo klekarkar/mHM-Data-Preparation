{
 "cells": [
  {
   "cell_type": "code",
   "execution_count": 2,
   "metadata": {},
   "outputs": [],
   "source": [
    "import numpy as np\n",
    "from osgeo import gdal"
   ]
  },
  {
   "cell_type": "code",
   "execution_count": 19,
   "metadata": {},
   "outputs": [],
   "source": [
    "# Step 1: Open and load the raster files\n",
    "data = gdal.Open(r\"W:\\VUB\\_main_research\\mHM\\flow_data\\shapefiles\\gauges.tif\")\n",
    "data_array = data.ReadAsArray()\n",
    "\n",
    "data_gauges = gdal.Open(r\"W:\\VUB\\_main_research\\mHM\\mhm_belgium\\belgium\\morph\\idgauges.asc\")\n",
    "data_array_gauges = data_gauges.ReadAsArray()\n",
    "\n",
    "# Step 2: Find the index of specific values in the data_array (gauge locations). Here the stations with values 100, 200 and 300 are selected.\n",
    "index_100 = np.where(data_array == 100)\n",
    "index_200 = np.where(data_array == 200)\n",
    "index_300 = np.where(data_array == 300)\n",
    "\n",
    "#in the data_array_gauges, replace the values of the gauge locations with the values of the data_array\n",
    "data_array_gauges[index_100] = 100\n",
    "data_array_gauges[index_200] = 200\n",
    "data_array_gauges[index_300] = 300"
   ]
  },
  {
   "cell_type": "code",
   "execution_count": 20,
   "metadata": {},
   "outputs": [],
   "source": [
    "#data_array_gauges = np.where(data_array_gauges == 0, -9999, data_array_gauges)\n",
    "\n",
    "#export the new array to an asc file\n",
    "np.savetxt(r\"W:\\VUB\\_main_research\\mHM\\flow_data\\shapefiles\\idgauges_new.asc\", data_array_gauges, fmt='%i', delimiter=' ', newline='\\n', header='ncols 1000\\nnrows 1000\\nxllcorner 0\\nyllcorner 0\\ncellsize 0.01\\nNODATA_value -9999')"
   ]
  }
 ],
 "metadata": {
  "kernelspec": {
   "display_name": "py_data_analysis",
   "language": "python",
   "name": "python3"
  },
  "language_info": {
   "codemirror_mode": {
    "name": "ipython",
    "version": 3
   },
   "file_extension": ".py",
   "mimetype": "text/x-python",
   "name": "python",
   "nbconvert_exporter": "python",
   "pygments_lexer": "ipython3",
   "version": "3.9.19"
  }
 },
 "nbformat": 4,
 "nbformat_minor": 2
}
