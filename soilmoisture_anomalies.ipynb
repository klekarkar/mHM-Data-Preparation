{
 "cells": [
  {
   "cell_type": "code",
   "execution_count": 1,
   "metadata": {},
   "outputs": [],
   "source": [
    "import xarray as xr\n",
    "import numpy as np\n",
    "import pandas as pd\n",
    "import matplotlib.pyplot as plt\n",
    "import seaborn as sns\n",
    "import geopandas as gpd\n",
    "from mhm_dataprocessing import *\n",
    "\n",
    "import numpy as np\n",
    "from sklearn.model_selection import GridSearchCV\n",
    "from sklearn.neighbors import KernelDensity"
   ]
  },
  {
   "cell_type": "markdown",
   "metadata": {},
   "source": [
    "### Read data"
   ]
  },
  {
   "cell_type": "code",
   "execution_count": 2,
   "metadata": {},
   "outputs": [],
   "source": [
    "mhm_fluxes = xr.open_dataset(r\"W:\\VUB\\_main_research\\mHM\\mhm_outputs\\mHM_Fluxes_States.nc\")\n",
    "\n",
    "#shapefile mask\n",
    "be_shp = gpd.read_file(r\"W:\\VUB\\_main_research\\mHM\\mhm_belgium\\be_shp\\be.shp\")"
   ]
  },
  {
   "cell_type": "code",
   "execution_count": 3,
   "metadata": {},
   "outputs": [],
   "source": [
    "be_data = clip_to_region(be_shp, mhm_fluxes)\n",
    "\n",
    "#resample to month ends\n",
    "#resample fluxes to month ends\n",
    "variables = ['SM_L01','SM_L02','SM_L03','SM_Lall','SWC_L01','SWC_L02','SWC_L03','recharge']\n",
    "\n",
    "mhm_fluxes_mon= be_data[variables].resample(time='ME').mean()"
   ]
  },
  {
   "cell_type": "code",
   "execution_count": 4,
   "metadata": {},
   "outputs": [],
   "source": [
    "#select values for June\n",
    "data=mhm_fluxes_mon.sel(time=mhm_fluxes_mon.time.dt.month==6)\n",
    "\n",
    "#select a time series from a specific location\n",
    "sample_ts = mhm_fluxes_mon['SM_Lall'].sel(lon=4.5, lat=50.5, method='nearest')"
   ]
  },
  {
   "cell_type": "code",
   "execution_count": null,
   "metadata": {},
   "outputs": [],
   "source": [
    "ts_df = sample_ts.to_dataframe().drop(columns=['lat', 'lon'])"
   ]
  },
  {
   "cell_type": "code",
   "execution_count": null,
   "metadata": {},
   "outputs": [],
   "source": [
    "fig,ax=plt.subplots(figsize=(10,2.5))\n",
    "plt.plot(ts_df.index, ts_df['SM_Lall'])\n",
    "plt.axhline(y=0.73, color='r', linestyle='--')"
   ]
  },
  {
   "cell_type": "markdown",
   "metadata": {},
   "source": [
    "#### SMI and drought characteristics\n",
    "\n",
    "ref: https://www.nature.com/articles/s41558-018-0138-5\n",
    "\n",
    "$SMI_{t} = F_{T}(x_{t})$\n",
    "\n",
    "\n",
    " Represents the quantile at the soil moisture fraction value x (normalized against the saturated soil water content). x t denotes the simulated monthly soil moisture fraction at a time t and is the empirical distribution function estimated using the kernel density estimator, $f_{t}(x)$\n",
    "\n",
    " $f_{t}(x) = \\frac{1}{nh}\\sum_{k=1}^{n}K(\\frac{x-x_{k}}{h})$\n",
    "  \n",
    "\n",
    " Here, $x_{1}$, …, $x_{n}$ n represents the simulated soil moisture fraction of a given calendar month during the reference period T; n denotes the number of calendar months within a given period (that is, 30 for a 30-year period); and $K$ represents a Gaussian kernel function with a bandwidth h. The bandwidth is estimated with GridSearch.\n",
    " \n",
    "$K(x, x_{k}) = \\frac{1}{\\sqrt{2\\pi h^{2}}}\\exp(\\frac{(x-x_{k})^{2}}{2h^{2}})$\n",
    "\n",
    "A cell at time t is under drought when SMI t  < $\\tau$. Here, $\\tau$ denotes that the soil water content in this cell is less than the values occurring $\\tau$ × 100% of the time. In this study, τ is set to 0.2\n",
    " "
   ]
  },
  {
   "cell_type": "markdown",
   "metadata": {},
   "source": [
    "  \n",
    "### Bandwidth selection\n",
    "Find the optimal bandwidth h for the distribution function.\n",
    "GridsearchCV\n",
    "\n",
    "-- --\n",
    "Alternatively using Silverman's rule (has limitations)\n",
    "\n",
    "\n",
    "https://towardsdatascience.com/bounded-kernel-density-estimation-2082dff3f47f\n",
    "\n",
    "Silverman's rule of thumb, optimal when the underlying density being estimated is Gaussian\n",
    "\n",
    "$h = \\sigma * (\\frac{4}{3n})^{-0.2}$"
   ]
  },
  {
   "cell_type": "markdown",
   "metadata": {},
   "source": [
    "#### Kernel Density Estimation (Example)"
   ]
  },
  {
   "cell_type": "code",
   "execution_count": null,
   "metadata": {},
   "outputs": [],
   "source": [
    "#GridSearchCV to find the optimal bandwidth\n",
    "#extract values\n",
    "soil_moisture = ts_df.values[:,0]\n",
    "# Define a range of bandwidths to test\n",
    "bandwidths =np.linspace(0.001, 0.9, 500)\n",
    "\n",
    "# Perform cross-validated grid search for bandwidth h\n",
    "grid = GridSearchCV(KernelDensity(kernel='gaussian'),\n",
    "                    {'bandwidth': bandwidths},\n",
    "                    cv=5)  # 5-fold cross-validation\n",
    "grid.fit(soil_moisture[:, None])\n",
    "\n",
    "# Optimal bandwidth\n",
    "optimal_h = grid.best_params_['bandwidth']\n",
    "print(f\"Optimal bandwidth: {optimal_h}\")\n",
    "\n",
    "#///////////////////////////////////////////////////////////////////////////////////////////////////////////////////////\n",
    "\n",
    "# kernel density estimation\n",
    "kde = KernelDensity(bandwidth=optimal_h, kernel='gaussian')\n",
    "kde.fit(soil_moisture[:, None]) #fit the KDE model to the data\n",
    "\n",
    "#plot the kde\n",
    "x = np.linspace(soil_moisture.min() * 0.8, soil_moisture.max() * 1.1, 1000) \n",
    "#x used for evaluating the kernel density estimation (KDE) does not have to be the same as the original data points.\n",
    "#  Instead, x is typically chosen as a smooth, evenly spaced range of values that covers the domain of the data.\n",
    "#  This ensures that the KDE curve is displayed smoothly over the range of interest.\n",
    "# x is for the visualization of the KDE, not for determining the underlying probabilities of your data\n",
    "\n",
    "#evaluate the KDE at the x values\n",
    "#range of soil moisture values\n",
    "logprob = kde.score_samples(x[:, None]) #log of the probability density function\n",
    "\n",
    "#probability density function\n",
    "prob_density = np.exp(logprob)\n",
    "\n",
    "#////////////////////////////////////////////////////////////////////////////////////////////////////////////////////////\n",
    "\n",
    "\n",
    "#plot the KDE\n",
    "fig, ax = plt.subplots(figsize=(10, 3.5))\n",
    "plt.fill_between(x, prob_density, alpha=0.5)\n",
    "#plot vertical lines (|) representing the soil moisture values, with height equal to -0.01\n",
    "plt.plot(soil_moisture, np.full_like(soil_moisture, -0.01), '|b', markeredgewidth=0.7)\n",
    "plt.xlabel('sm')\n",
    "plt.ylabel('Probability Density')"
   ]
  },
  {
   "cell_type": "markdown",
   "metadata": {},
   "source": [
    "### Cumulative distribution function\n",
    "\n",
    "Integrate the probability distribution function to obtain the CDF"
   ]
  },
  {
   "cell_type": "code",
   "execution_count": null,
   "metadata": {},
   "outputs": [],
   "source": [
    "# Compute the CDF by integrating the PDF\n",
    "cdf = np.cumsum(prob_density) * (x[1] - x[0])"
   ]
  },
  {
   "cell_type": "code",
   "execution_count": null,
   "metadata": {},
   "outputs": [],
   "source": [
    "### calculare the probability of soil moisture being below 0.71\n",
    "cdf_071 = np.interp(0.732, x, cdf)\n",
    "\n",
    "#calculate the sm value corresponding to 0.2 cumulative probability\n",
    "sm_02 = np.interp(0.2, cdf, x)\n",
    "sm_02"
   ]
  },
  {
   "cell_type": "code",
   "execution_count": null,
   "metadata": {},
   "outputs": [],
   "source": [
    "# Plot the PDF and CDF\n",
    "plt.figure(figsize=(12, 4))\n",
    "plt.subplot(1, 2, 1)\n",
    "plt.plot(x, prob_density, label='PDF')\n",
    "plt.axvline(sm_02, color='red', lw=0.5, label='20%')\n",
    "plt.xlabel('Soil Moisture')\n",
    "plt.ylabel('Density')\n",
    "plt.legend()\n",
    "\n",
    "plt.subplot(1, 2, 2)\n",
    "plt.plot(x, cdf, label='CDF', color='orange')\n",
    "plt.axvline(sm_02, color='red', lw=0.5, label='20%')\n",
    "#fill between the x values up to the threshold value\n",
    "plt.fill_between(x, cdf, where=(x <= sm_02), color='red', alpha=0.)\n",
    "\n",
    "plt.xlabel('Soil Moisture')\n",
    "plt.ylabel('Cumulative Probability')\n",
    "plt.legend()\n",
    "plt.tight_layout()\n",
    "plt.show()"
   ]
  },
  {
   "cell_type": "markdown",
   "metadata": {},
   "source": [
    "### cdf for entire dataset"
   ]
  },
  {
   "cell_type": "code",
   "execution_count": null,
   "metadata": {},
   "outputs": [],
   "source": [
    "summer_months = [6,7,8]\n",
    "#select values for summer months\n",
    "data_summer = mhm_fluxes_mon.sel(time=mhm_fluxes_mon.time.dt.month.isin(summer_months))\n",
    "\n",
    "#average soil moisture for summer months for each year\n",
    "data_summer_avg = data_summer.groupby('time.year').mean()"
   ]
  },
  {
   "cell_type": "code",
   "execution_count": null,
   "metadata": {},
   "outputs": [],
   "source": [
    "data_summer_avg['SM_L02'][5].plot(vmin=0.6, vmax=0.99, cmap='viridis_r')"
   ]
  },
  {
   "cell_type": "code",
   "execution_count": null,
   "metadata": {},
   "outputs": [],
   "source": [
    "#loop through all the cells and calculate the cdf for each cell\n",
    "cdf_values = []\n",
    "\n",
    "for i in range(0, len(data_summer_avg.lon[0:10])):\n",
    "    for j in range(0, len(data_summer_avg.lat[0:10])):\n",
    "        sample_ts = data_summer_avg['SM_Lall'].sel(lon=data_summer_avg.lon[i], lat=data_summer_avg.lat[j], method='nearest')\n",
    "        ts_df = sample_ts.to_dataframe().drop(columns=['lat', 'lon'])\n",
    "        soil_moisture = ts_df.values[:,0]\n",
    "        x = np.linspace(soil_moisture.min() * 0.8, soil_moisture.max() * 1.1, 1000) \n",
    "        #compute optimal bandwidth\n",
    "        optimal_h = compute_optimal_h(soil_moisture)\n",
    "        # kernel density estimation\n",
    "        kde = KernelDensity(bandwidth=optimal_h, kernel='gaussian')\n",
    "        if np.isnan(soil_moisture).all():\n",
    "            cdf_values.append(np.nan)\n",
    "            continue\n",
    "\n",
    "        kde.fit(soil_moisture[:, None])\n",
    "        logprob = kde.score_samples(x[:, None])\n",
    "        prob_density = np.exp(logprob)\n",
    "        cdf = np.cumsum(prob_density) * (x[1] - x[0])\n",
    "        cdf_values.append(cdf)"
   ]
  },
  {
   "cell_type": "code",
   "execution_count": null,
   "metadata": {},
   "outputs": [],
   "source": [
    "import numpy as np\n",
    "from sklearn.neighbors import KernelDensity\n",
    "import xarray as xr\n",
    "\n",
    "# Function to compute CDF for a single grid cell\n",
    "def compute_cdf_for_cell(soil_moisture_timeseries, optimal_h):\n",
    "    # Ensure the timeseries is a 1D array\n",
    "    soil_moisture_timeseries = soil_moisture_timeseries.flatten()\n",
    "\n",
    "    # Remove NaN values from the timeseries\n",
    "    soil_moisture_timeseries = soil_moisture_timeseries[~np.isnan(soil_moisture_timeseries)]\n",
    "\n",
    "    # If the timeseries is empty after removing NaNs, return NaN array for that cell\n",
    "    if len(soil_moisture_timeseries) == 0:\n",
    "        return np.full(1000, np.nan)\n",
    "\n",
    "    # Fit Kernel Density Estimation (KDE) to the timeseries data\n",
    "    kde = KernelDensity(bandwidth=optimal_h, kernel='gaussian')\n",
    "    kde.fit(soil_moisture_timeseries[:, None])  # Fit KDE to the soil moisture timeseries\n",
    "\n",
    "    # Generate range of x values (for CDF computation)\n",
    "    x = np.linspace(soil_moisture_timeseries.min() * 0.8, soil_moisture_timeseries.max() * 1.1, 1000)\n",
    "\n",
    "    # Evaluate the KDE at the x values (log-probabilities)\n",
    "    logprob = kde.score_samples(x[:, None])\n",
    "\n",
    "    # Convert log-probabilities to probability density function (PDF)\n",
    "    prob_density = np.exp(logprob)\n",
    "\n",
    "    # Compute CDF by integrating the PDF using the trapezoidal rule\n",
    "    cdf = np.cumsum(prob_density) * (x[1] - x[0])\n",
    "\n",
    "    # Return the full CDF array for the grid cell\n",
    "    return cdf\n",
    "\n",
    "# Main function to compute CDF for all grid cells\n",
    "def compute_cdf(dataset, optimal_h, month):\n",
    "    # Filter dataset for the given month\n",
    "    data_month = dataset.sel(time=dataset.time.dt.month == month)\n",
    "\n",
    "    # Impute missing values using forward fill or interpolation (if necessary)\n",
    "    #data_month = data_month.fillna(method='ffill', dim='time')\n",
    "\n",
    "    # Extract soil moisture timeseries for each grid cell\n",
    "    soil_moisture_timeseries = data_month.values\n",
    "\n",
    "    # Apply the compute_cdf_for_cell function across each grid cell\n",
    "    cdf_values = xr.apply_ufunc(\n",
    "        compute_cdf_for_cell,  # Function to apply\n",
    "        soil_moisture_timeseries,  # Soil moisture time series for each grid cell\n",
    "        optimal_h,  # The bandwidth for KDE\n",
    "        input_core_dims=[['time'], []],  # Apply across the 'time' dimension (each time series per grid cell)\n",
    "        vectorize=True,  # Vectorize to process all grid cells\n",
    "        output_dtypes=[float],  # Output will be an array of CDF values for each grid cell\n",
    "        output_sizes={'x': 1000}  # Specify the output size for the CDF (1000 points)\n",
    "    )\n",
    "\n",
    "    return cdf_values"
   ]
  },
  {
   "cell_type": "code",
   "execution_count": null,
   "metadata": {},
   "outputs": [],
   "source": [
    "# Example usage: Compute the CDF for the 6th month (June) with the given optimal bandwidth (e.g., optimal_h=0.2)\n",
    "cdf_values = compute_cdf(mhm_fluxes_mon['SM_Lall'], optimal_h=0.2, month=6)"
   ]
  }
 ],
 "metadata": {
  "kernelspec": {
   "display_name": "py_data_analysis",
   "language": "python",
   "name": "python3"
  },
  "language_info": {
   "codemirror_mode": {
    "name": "ipython",
    "version": 3
   },
   "file_extension": ".py",
   "mimetype": "text/x-python",
   "name": "python",
   "nbconvert_exporter": "python",
   "pygments_lexer": "ipython3",
   "version": "3.9.19"
  }
 },
 "nbformat": 4,
 "nbformat_minor": 2
}
